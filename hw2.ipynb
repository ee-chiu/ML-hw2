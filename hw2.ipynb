{
 "cells": [
  {
   "cell_type": "code",
   "execution_count": 62,
   "metadata": {},
   "outputs": [],
   "source": [
    "import numpy as np\n",
    "import matplotlib.pyplot as plt\n",
    "import pandas as pd\n",
    "\n",
    "from sklearn.utils import shuffle\n",
    "from sklearn.decomposition import PCA\n",
    "from sklearn.tree import DecisionTreeClassifier\n",
    "from sklearn.ensemble import RandomForestClassifier\n",
    "from sklearn.neighbors import KNeighborsClassifier\n",
    "from sklearn.model_selection import KFold\n",
    "from sklearn.metrics import accuracy_score\n",
    "from sklearn.metrics import recall_score\n",
    "from sklearn.metrics import precision_score\n",
    "from sklearn.metrics import confusion_matrix\n",
    "\n",
    "import prettytable as pt\n",
    "\n",
    "import pydotplus\n",
    "from sklearn.tree import export_graphviz\n",
    "\n",
    "from sklearn.neighbors import NearestNeighbors\n",
    "\n",
    "import seaborn as sns\n",
    "from matplotlib.colors import ListedColormap"
   ]
  },
  {
   "cell_type": "markdown",
   "metadata": {},
   "source": [
    "## 1. Data Input"
   ]
  },
  {
   "cell_type": "code",
   "execution_count": 63,
   "metadata": {},
   "outputs": [],
   "source": [
    "def load_data():\n",
    "    path = \"./student-mat.csv\" #指定路徑\n",
    "    df = pd.read_csv(path, sep = ';') #透過';'把資料切成多個columns\n",
    "    return df"
   ]
  },
  {
   "cell_type": "code",
   "execution_count": 64,
   "metadata": {},
   "outputs": [],
   "source": [
    "df = load_data()"
   ]
  },
  {
   "cell_type": "markdown",
   "metadata": {},
   "source": [
    "## 2. Data Preprocessing"
   ]
  },
  {
   "cell_type": "code",
   "execution_count": 65,
   "metadata": {},
   "outputs": [],
   "source": [
    "def preprocessing(df):\n",
    "    for index in df.keys():\n",
    "        if type(df[index][0]) == type(\"str\") or index == \"G3\": #如果當前 feature 不是 numerical 或現在的 column 是 G3(label)，則跳過\n",
    "            continue\n",
    "        df[index] = (df[index] - df[index].mean()) / df[index].std() #normalize\n",
    "\n",
    "    df = pd.get_dummies(df) #one-hot encoding\n",
    "    df = shuffle(df, random_state = np.random.RandomState(seed = 512)) #shuffle data\n",
    "    return df"
   ]
  },
  {
   "cell_type": "code",
   "execution_count": 66,
   "metadata": {},
   "outputs": [],
   "source": [
    "def get_y2(y):\n",
    "    less_10 = [i for i in range(10)] #低於 10 數字的 list\n",
    "    higher_or_eq_10 = [i for i in range(10, 21, 1)] #介在 10~20 數字的 list\n",
    "    \n",
    "    y_2 = y #把 y_2 assign 成 G3 這個 column\n",
    "    y_2 = y_2.replace(less_10, 0) #若 G3 < 10，把值 assign 成 0\n",
    "    y_2 = y_2.replace(higher_or_eq_10, 1) #若 10 <= G3 <= 20，把值 assign 成 1\n",
    "    \n",
    "    return y_2"
   ]
  },
  {
   "cell_type": "code",
   "execution_count": 67,
   "metadata": {},
   "outputs": [],
   "source": [
    "def get_y5(y):\n",
    "    F = [i for i in range(10)] # 0 <= F <= 9\n",
    "    D = [10, 11] \n",
    "    C = [12, 13]\n",
    "    B = [14, 15]\n",
    "    A = [i for i in range(16, 21, 1)] # 16 <= A <= 20\n",
    "    \n",
    "    y_5 = y #把 y_5 assign 成 G3 這個 column\n",
    "    y_5 = y_5.replace(F, 0) #若 G3 < 10，把值 assign 成 0\n",
    "    y_5 = y_5.replace(D, 1) #若 G3 == 10 or G3 == 11，把值 assign 成 1\n",
    "    y_5 = y_5.replace(C, 2) #若 G3 == 12 or G3 == 13，把值 assign 成 2\n",
    "    y_5 = y_5.replace(B, 3) #若 G3 == 14 or G3 == 15，把值 assign 成 3\n",
    "    y_5 = y_5.replace(A, 4) #若 16 <= G3 <= 20，把值 assign 成 4\n",
    "    \n",
    "    return y_5"
   ]
  },
  {
   "cell_type": "code",
   "execution_count": 68,
   "metadata": {},
   "outputs": [],
   "source": [
    "df = preprocessing(df) #對 data 做 preprocessing\n",
    "X = df.drop(columns = ['G3']) # 把 G3(label) drop 掉以後 assign 給 X\n",
    "y = df['G3'] # 把 y assign 成 G3(label)\n",
    "\n",
    "y_2 = get_y2(y) # binary classification\n",
    "y_5 = get_y5(y) # 5-level classification\n",
    "\n",
    "#把 DataFrame(X) 和 Series(y_2, y_5) 轉成 numpy array\n",
    "X = X.to_numpy()\n",
    "y_2 = y_2.to_numpy()\n",
    "y_5 = y_5.to_numpy()"
   ]
  },
  {
   "cell_type": "markdown",
   "metadata": {},
   "source": [
    "## 3. Principal components analysis (PCA)"
   ]
  },
  {
   "cell_type": "code",
   "execution_count": 69,
   "metadata": {},
   "outputs": [],
   "source": [
    "def getPCA(X, n):\n",
    "    pca = PCA(n_components = n, random_state = np.random.RandomState(seed = 1024)) #得到一個 PCA 的 object \n",
    "    PCA_X = pca.fit(X).transform(X) \n",
    "    return PCA_X"
   ]
  },
  {
   "cell_type": "code",
   "execution_count": 70,
   "metadata": {},
   "outputs": [],
   "source": [
    "PCA_X = getPCA(X, 20) # 對 X 降維（降維到 20 維）"
   ]
  },
  {
   "cell_type": "markdown",
   "metadata": {},
   "source": [
    "## 4. Model Construction"
   ]
  },
  {
   "cell_type": "code",
   "execution_count": 71,
   "metadata": {},
   "outputs": [],
   "source": [
    "def decision_tree(X_train, y_train, draw):\n",
    "    model = DecisionTreeClassifier(criterion = \"gini\", max_depth = 7, max_leaf_nodes = 10, random_state = np.random.RandomState(seed = 2048))\n",
    "    #得到 decision tree 的 model\n",
    "    \n",
    "    model.fit(X_train, y_train)\n",
    "    \n",
    "    #畫出 decision tree 的圖\n",
    "    if draw == 1:\n",
    "        labels = [\"fail\", \"pass\"]\n",
    "        dot_data = export_graphviz(model, out_file = None, class_names = labels)\n",
    "        graph = pydotplus.graph_from_dot_data(dot_data)\n",
    "        graph.write_pdf(\"decision_tree.pdf\")\n",
    "    \n",
    "    return model"
   ]
  },
  {
   "cell_type": "code",
   "execution_count": 72,
   "metadata": {},
   "outputs": [],
   "source": [
    "def random_forest(X_train, y_train, n):\n",
    "    model = RandomForestClassifier(n_estimators = n, criterion = \"gini\", max_depth = 7, random_state = np.random.RandomState(seed = 2584))\n",
    "    #得到 random forest 的 model\n",
    "    \n",
    "    model.fit(X_train, y_train)\n",
    "    return model"
   ]
  },
  {
   "cell_type": "code",
   "execution_count": 73,
   "metadata": {},
   "outputs": [],
   "source": [
    "def KNN(X_train, y_train, n):\n",
    "    model = KNeighborsClassifier(n_neighbors = n) # 得到 KNN 的 model\n",
    "    model.fit(X_train, y_train)\n",
    "    return model"
   ]
  },
  {
   "cell_type": "markdown",
   "metadata": {},
   "source": [
    "## 5. Validation"
   ]
  },
  {
   "cell_type": "code",
   "execution_count": 74,
   "metadata": {},
   "outputs": [],
   "source": [
    "def k_fold(X, y, mode):\n",
    "    k = 3\n",
    "    kf = KFold(n_splits = k) #得到一個 k = 3 的 KFold object\n",
    "    \n",
    "    size = None\n",
    "    \n",
    "    #透過 mode 得知要做的是 binary classification 或 5-level classification\n",
    "    if mode <= 5 or mode >= 12:\n",
    "        size = 2\n",
    "    else:\n",
    "        size = 5\n",
    "        \n",
    "    draw = 0 # 這邊的 decision tree model 都不需要畫圖\n",
    "        \n",
    "    total_c_m = np.zeros((size, size))\n",
    "    total_a_s, total_r_s, total_p_s =  0, 0, 0\n",
    "    #initialize total confusion matrix, total accuracy, total recall, total precision\n",
    "\n",
    "    for train_index, test_index in kf.split(X):\n",
    "        X_train, X_test, y_train, y_test = X[train_index], X[test_index], y[train_index], y[test_index] \n",
    "        #先把 training data 跟 testing data 分配好\n",
    "        \n",
    "        model = None\n",
    "        \n",
    "        if mode == 12:\n",
    "            model = random_forest(X_train, y_train, 33) #建一個有 33 trees 的 random forest model\n",
    "        elif mode == 13:\n",
    "            model = random_forest(X_train, y_train, 17) #建一個有 17 trees 的 random forest model\n",
    "        elif mode == 14:\n",
    "            model = KNN(X_train, y_train, 7) #建一個 K = 7 的 KNN model\n",
    "        elif mode == 15:\n",
    "            model = KNN(X_train, y_train, 5) #建一個 K = 5 的 KNN model\n",
    "        elif mode % 6 == 0 or mode % 6 == 1:\n",
    "            model = decision_tree(X_train, y_train, draw) #建一個 decision tree model\n",
    "        elif mode % 6 == 2 or mode % 6 == 3:\n",
    "            model = random_forest(X_train, y_train, 65) #建一個有 65 trees 的 random forest model\n",
    "        elif mode % 6 == 4 or mode % 6 == 5:\n",
    "            model = KNN(X_train, y_train, 9) #建一個 K = 7 的 KNN model\n",
    "            \n",
    "        y_pred = model.predict(X_test) #透過 model 對 testing data 做預測\n",
    "        c_m = confusion_matrix(y_test, y_pred) #得到 confusion matrix\n",
    "        a_s = accuracy_score(y_test, y_pred) #得到 accuarcy\n",
    "        r_s = recall_score(y_test, y_pred, average = None) #得到 recall\n",
    "        p_s = precision_score(y_test, y_pred, average = None) #得到 precision\n",
    "        \n",
    "        total_c_m = total_c_m + c_m  #把 total confusion matrix 加上此次算出來的 confusion matrix\n",
    "        total_a_s = total_a_s + a_s #把 total accuracy 加上此次算出來的 accuracy\n",
    "        total_r_s = total_r_s + r_s #把 total recall 加上此次算出來的 recall\n",
    "        total_p_s = total_p_s + p_s #把 total precision 加上此次算出來的 precision\n",
    "        \n",
    "    avg_c_m = np.round(total_c_m / k, 2) #算出平均 confusion matrix，並四捨五入到小數點第二位\n",
    "    avg_a_s = round(total_a_s / k, 2) #算出平均 accuracy，並四捨五入到小數點第二位\n",
    "    avg_r_s = np.round(total_r_s / k, 2) #算出平均 recall，並四捨五入到小數點第二位\n",
    "    avg_p_s = np.round(total_p_s / k, 2) #算出平均 precision，並四捨五入到小數點第二位\n",
    "\n",
    "    model_name = None\n",
    "    with_without = None\n",
    "    classification = None\n",
    "    \n",
    "    #設定 model 的名字\n",
    "    if mode == 12:\n",
    "        model_name = \"Random Forest(33 trees)\"\n",
    "    elif mode == 13:\n",
    "        model_name = \"Random Forest(17 trees)\"\n",
    "    elif mode == 14:\n",
    "        model_name = \"KNN(K = 7)\"\n",
    "    elif mode == 15:\n",
    "        model_name = \"KNN(K = 5)\"\n",
    "    elif mode % 6 == 0 or mode % 6 == 1:\n",
    "        model_name = \"Decision Tree\"\n",
    "    elif mode % 6 == 2 or mode % 6 == 3:\n",
    "        model_name = \"Random Forest(65 trees)\"\n",
    "    else:\n",
    "        model_name = \"KNN(K = 9)\"\n",
    "        \n",
    "    #設定有沒有做 PCA\n",
    "    if mode % 2 == 0 or mode >= 12:\n",
    "        with_without = \"without\"\n",
    "    else:\n",
    "        with_without = \"with\"\n",
    "\n",
    "    #設定是 binary classification 還是 5-level classification\n",
    "    if mode <= 5 or mode >= 12:\n",
    "        classification = \"Binary Classification\"\n",
    "    else:\n",
    "        classification = \"5-level Classification\"\n",
    "    \n",
    "    method = \"{} {} PCA ({})\".format(model_name, with_without, classification) # assign method \n",
    "    \n",
    "    # 設定 k_list 的形式\n",
    "    k_list = None\n",
    "    if mode <= 5 or mode >= 12:\n",
    "        k_list = [method, avg_a_s, avg_r_s[0], avg_r_s[1], \"/\", \"/\", \"/\", \n",
    "                  avg_p_s[0], avg_p_s[1], \"/\", \"/\", \"/\"]\n",
    "    #把 method name, 平均 accuracy, 平均 recall （根據 label 分類）, 平均 precision （根據 label 分類） 塞進 k_list 中\n",
    "    \n",
    "    else:\n",
    "        k_list = [method, avg_a_s, avg_r_s[0], avg_r_s[1], avg_r_s[2], avg_r_s[3], avg_r_s[4], \n",
    "                  avg_p_s[0], avg_p_s[1], avg_p_s[2], avg_p_s[3], avg_p_s[4]]\n",
    "    #把 method name, 平均 accuracy, 平均 recall （根據 label 分類）, 平均 precision （根據 label 分類） 塞進 k_list 中\n",
    "\n",
    "    c_m_list = [method, avg_c_m] #把 method name 和 平均 confusion matrix 塞進 c_m_list 中\n",
    "    return c_m_list, k_list "
   ]
  },
  {
   "cell_type": "markdown",
   "metadata": {},
   "source": [
    "## 6. Results"
   ]
  },
  {
   "cell_type": "code",
   "execution_count": 75,
   "metadata": {},
   "outputs": [
    {
     "data": {
      "text/html": [
       "<div>\n",
       "<style scoped>\n",
       "    .dataframe tbody tr th:only-of-type {\n",
       "        vertical-align: middle;\n",
       "    }\n",
       "\n",
       "    .dataframe tbody tr th {\n",
       "        vertical-align: top;\n",
       "    }\n",
       "\n",
       "    .dataframe thead th {\n",
       "        text-align: right;\n",
       "    }\n",
       "</style>\n",
       "<table border=\"1\" class=\"dataframe\">\n",
       "  <thead>\n",
       "    <tr style=\"text-align: right;\">\n",
       "      <th></th>\n",
       "      <th>Method</th>\n",
       "      <th>Accuracy</th>\n",
       "      <th>Recall(fail or F)</th>\n",
       "      <th>Recall(pass or D)</th>\n",
       "      <th>Recall(C)</th>\n",
       "      <th>Recall(B)</th>\n",
       "      <th>Recall(A)</th>\n",
       "      <th>Precision(fail or F)</th>\n",
       "      <th>Precision(pass or D)</th>\n",
       "      <th>Precision(C)</th>\n",
       "      <th>Precision(B)</th>\n",
       "      <th>Precision(A)</th>\n",
       "    </tr>\n",
       "  </thead>\n",
       "  <tbody>\n",
       "    <tr>\n",
       "      <th>0</th>\n",
       "      <td>Decision Tree without PCA (Binary Classification)</td>\n",
       "      <td>0.91</td>\n",
       "      <td>0.87</td>\n",
       "      <td>0.93</td>\n",
       "      <td>/</td>\n",
       "      <td>/</td>\n",
       "      <td>/</td>\n",
       "      <td>0.86</td>\n",
       "      <td>0.94</td>\n",
       "      <td>/</td>\n",
       "      <td>/</td>\n",
       "      <td>/</td>\n",
       "    </tr>\n",
       "    <tr>\n",
       "      <th>1</th>\n",
       "      <td>Decision Tree with PCA (Binary Classification)</td>\n",
       "      <td>0.79</td>\n",
       "      <td>0.61</td>\n",
       "      <td>0.89</td>\n",
       "      <td>/</td>\n",
       "      <td>/</td>\n",
       "      <td>/</td>\n",
       "      <td>0.72</td>\n",
       "      <td>0.82</td>\n",
       "      <td>/</td>\n",
       "      <td>/</td>\n",
       "      <td>/</td>\n",
       "    </tr>\n",
       "    <tr>\n",
       "      <th>2</th>\n",
       "      <td>Random Forest(65 trees) without PCA (Binary Classification)</td>\n",
       "      <td>0.91</td>\n",
       "      <td>0.87</td>\n",
       "      <td>0.93</td>\n",
       "      <td>/</td>\n",
       "      <td>/</td>\n",
       "      <td>/</td>\n",
       "      <td>0.86</td>\n",
       "      <td>0.94</td>\n",
       "      <td>/</td>\n",
       "      <td>/</td>\n",
       "      <td>/</td>\n",
       "    </tr>\n",
       "    <tr>\n",
       "      <th>3</th>\n",
       "      <td>Random Forest(33 trees) without PCA (Binary Classification)</td>\n",
       "      <td>0.91</td>\n",
       "      <td>0.88</td>\n",
       "      <td>0.93</td>\n",
       "      <td>/</td>\n",
       "      <td>/</td>\n",
       "      <td>/</td>\n",
       "      <td>0.87</td>\n",
       "      <td>0.94</td>\n",
       "      <td>/</td>\n",
       "      <td>/</td>\n",
       "      <td>/</td>\n",
       "    </tr>\n",
       "    <tr>\n",
       "      <th>4</th>\n",
       "      <td>Random Forest(17 trees) without PCA (Binary Classification)</td>\n",
       "      <td>0.91</td>\n",
       "      <td>0.85</td>\n",
       "      <td>0.94</td>\n",
       "      <td>/</td>\n",
       "      <td>/</td>\n",
       "      <td>/</td>\n",
       "      <td>0.88</td>\n",
       "      <td>0.93</td>\n",
       "      <td>/</td>\n",
       "      <td>/</td>\n",
       "      <td>/</td>\n",
       "    </tr>\n",
       "    <tr>\n",
       "      <th>5</th>\n",
       "      <td>Random Forest(65 trees) with PCA (Binary Classification)</td>\n",
       "      <td>0.85</td>\n",
       "      <td>0.65</td>\n",
       "      <td>0.96</td>\n",
       "      <td>/</td>\n",
       "      <td>/</td>\n",
       "      <td>/</td>\n",
       "      <td>0.87</td>\n",
       "      <td>0.85</td>\n",
       "      <td>/</td>\n",
       "      <td>/</td>\n",
       "      <td>/</td>\n",
       "    </tr>\n",
       "    <tr>\n",
       "      <th>6</th>\n",
       "      <td>KNN(K = 9) without PCA (Binary Classification)</td>\n",
       "      <td>0.82</td>\n",
       "      <td>0.55</td>\n",
       "      <td>0.95</td>\n",
       "      <td>/</td>\n",
       "      <td>/</td>\n",
       "      <td>/</td>\n",
       "      <td>0.84</td>\n",
       "      <td>0.81</td>\n",
       "      <td>/</td>\n",
       "      <td>/</td>\n",
       "      <td>/</td>\n",
       "    </tr>\n",
       "    <tr>\n",
       "      <th>7</th>\n",
       "      <td>KNN(K = 7) without PCA (Binary Classification)</td>\n",
       "      <td>0.80</td>\n",
       "      <td>0.55</td>\n",
       "      <td>0.93</td>\n",
       "      <td>/</td>\n",
       "      <td>/</td>\n",
       "      <td>/</td>\n",
       "      <td>0.80</td>\n",
       "      <td>0.81</td>\n",
       "      <td>/</td>\n",
       "      <td>/</td>\n",
       "      <td>/</td>\n",
       "    </tr>\n",
       "    <tr>\n",
       "      <th>8</th>\n",
       "      <td>KNN(K = 5) without PCA (Binary Classification)</td>\n",
       "      <td>0.80</td>\n",
       "      <td>0.56</td>\n",
       "      <td>0.92</td>\n",
       "      <td>/</td>\n",
       "      <td>/</td>\n",
       "      <td>/</td>\n",
       "      <td>0.78</td>\n",
       "      <td>0.81</td>\n",
       "      <td>/</td>\n",
       "      <td>/</td>\n",
       "      <td>/</td>\n",
       "    </tr>\n",
       "    <tr>\n",
       "      <th>9</th>\n",
       "      <td>KNN(K = 9) with PCA (Binary Classification)</td>\n",
       "      <td>0.80</td>\n",
       "      <td>0.55</td>\n",
       "      <td>0.92</td>\n",
       "      <td>/</td>\n",
       "      <td>/</td>\n",
       "      <td>/</td>\n",
       "      <td>0.78</td>\n",
       "      <td>0.81</td>\n",
       "      <td>/</td>\n",
       "      <td>/</td>\n",
       "      <td>/</td>\n",
       "    </tr>\n",
       "    <tr>\n",
       "      <th>10</th>\n",
       "      <td>Decision Tree without PCA (5-level Classification)</td>\n",
       "      <td>0.77</td>\n",
       "      <td>0.88</td>\n",
       "      <td>0.69</td>\n",
       "      <td>0.68</td>\n",
       "      <td>0.78</td>\n",
       "      <td>0.75</td>\n",
       "      <td>0.85</td>\n",
       "      <td>0.71</td>\n",
       "      <td>0.66</td>\n",
       "      <td>0.75</td>\n",
       "      <td>0.92</td>\n",
       "    </tr>\n",
       "    <tr>\n",
       "      <th>11</th>\n",
       "      <td>Decision Tree with PCA (5-level Classification)</td>\n",
       "      <td>0.53</td>\n",
       "      <td>0.74</td>\n",
       "      <td>0.48</td>\n",
       "      <td>0.25</td>\n",
       "      <td>0.46</td>\n",
       "      <td>0.51</td>\n",
       "      <td>0.72</td>\n",
       "      <td>0.41</td>\n",
       "      <td>0.61</td>\n",
       "      <td>0.42</td>\n",
       "      <td>0.68</td>\n",
       "    </tr>\n",
       "    <tr>\n",
       "      <th>12</th>\n",
       "      <td>Random Forest(65 trees) without PCA (5-level Classification)</td>\n",
       "      <td>0.70</td>\n",
       "      <td>0.93</td>\n",
       "      <td>0.64</td>\n",
       "      <td>0.42</td>\n",
       "      <td>0.68</td>\n",
       "      <td>0.64</td>\n",
       "      <td>0.81</td>\n",
       "      <td>0.66</td>\n",
       "      <td>0.57</td>\n",
       "      <td>0.58</td>\n",
       "      <td>0.81</td>\n",
       "    </tr>\n",
       "    <tr>\n",
       "      <th>13</th>\n",
       "      <td>Random Forest(65 trees) with PCA (5-level Classification)</td>\n",
       "      <td>0.52</td>\n",
       "      <td>0.86</td>\n",
       "      <td>0.43</td>\n",
       "      <td>0.07</td>\n",
       "      <td>0.57</td>\n",
       "      <td>0.34</td>\n",
       "      <td>0.63</td>\n",
       "      <td>0.41</td>\n",
       "      <td>0.22</td>\n",
       "      <td>0.49</td>\n",
       "      <td>0.59</td>\n",
       "    </tr>\n",
       "    <tr>\n",
       "      <th>14</th>\n",
       "      <td>KNN(K = 9) without PCA (5-level Classification)</td>\n",
       "      <td>0.47</td>\n",
       "      <td>0.70</td>\n",
       "      <td>0.41</td>\n",
       "      <td>0.14</td>\n",
       "      <td>0.48</td>\n",
       "      <td>0.4</td>\n",
       "      <td>0.62</td>\n",
       "      <td>0.32</td>\n",
       "      <td>0.25</td>\n",
       "      <td>0.52</td>\n",
       "      <td>0.78</td>\n",
       "    </tr>\n",
       "    <tr>\n",
       "      <th>15</th>\n",
       "      <td>KNN(K = 9) with PCA (5-level Classification)</td>\n",
       "      <td>0.49</td>\n",
       "      <td>0.72</td>\n",
       "      <td>0.49</td>\n",
       "      <td>0.18</td>\n",
       "      <td>0.5</td>\n",
       "      <td>0.3</td>\n",
       "      <td>0.63</td>\n",
       "      <td>0.36</td>\n",
       "      <td>0.24</td>\n",
       "      <td>0.51</td>\n",
       "      <td>0.59</td>\n",
       "    </tr>\n",
       "  </tbody>\n",
       "</table>\n",
       "</div>"
      ],
      "text/plain": [
       "                                                          Method  \\\n",
       "0              Decision Tree without PCA (Binary Classification)   \n",
       "1                 Decision Tree with PCA (Binary Classification)   \n",
       "2    Random Forest(65 trees) without PCA (Binary Classification)   \n",
       "3    Random Forest(33 trees) without PCA (Binary Classification)   \n",
       "4    Random Forest(17 trees) without PCA (Binary Classification)   \n",
       "5       Random Forest(65 trees) with PCA (Binary Classification)   \n",
       "6                 KNN(K = 9) without PCA (Binary Classification)   \n",
       "7                 KNN(K = 7) without PCA (Binary Classification)   \n",
       "8                 KNN(K = 5) without PCA (Binary Classification)   \n",
       "9                    KNN(K = 9) with PCA (Binary Classification)   \n",
       "10            Decision Tree without PCA (5-level Classification)   \n",
       "11               Decision Tree with PCA (5-level Classification)   \n",
       "12  Random Forest(65 trees) without PCA (5-level Classification)   \n",
       "13     Random Forest(65 trees) with PCA (5-level Classification)   \n",
       "14               KNN(K = 9) without PCA (5-level Classification)   \n",
       "15                  KNN(K = 9) with PCA (5-level Classification)   \n",
       "\n",
       "    Accuracy  Recall(fail or F)  Recall(pass or D)  \\\n",
       "0       0.91               0.87               0.93   \n",
       "1       0.79               0.61               0.89   \n",
       "2       0.91               0.87               0.93   \n",
       "3       0.91               0.88               0.93   \n",
       "4       0.91               0.85               0.94   \n",
       "5       0.85               0.65               0.96   \n",
       "6       0.82               0.55               0.95   \n",
       "7       0.80               0.55               0.93   \n",
       "8       0.80               0.56               0.92   \n",
       "9       0.80               0.55               0.92   \n",
       "10      0.77               0.88               0.69   \n",
       "11      0.53               0.74               0.48   \n",
       "12      0.70               0.93               0.64   \n",
       "13      0.52               0.86               0.43   \n",
       "14      0.47               0.70               0.41   \n",
       "15      0.49               0.72               0.49   \n",
       "\n",
       "   Recall(C) Recall(B) Recall(A)  Precision(fail or F)  \\\n",
       "0          /         /         /                  0.86   \n",
       "1          /         /         /                  0.72   \n",
       "2          /         /         /                  0.86   \n",
       "3          /         /         /                  0.87   \n",
       "4          /         /         /                  0.88   \n",
       "5          /         /         /                  0.87   \n",
       "6          /         /         /                  0.84   \n",
       "7          /         /         /                  0.80   \n",
       "8          /         /         /                  0.78   \n",
       "9          /         /         /                  0.78   \n",
       "10      0.68      0.78      0.75                  0.85   \n",
       "11      0.25      0.46      0.51                  0.72   \n",
       "12      0.42      0.68      0.64                  0.81   \n",
       "13      0.07      0.57      0.34                  0.63   \n",
       "14      0.14      0.48       0.4                  0.62   \n",
       "15      0.18       0.5       0.3                  0.63   \n",
       "\n",
       "    Precision(pass or D) Precision(C) Precision(B)  \\\n",
       "0                   0.94            /            /   \n",
       "1                   0.82            /            /   \n",
       "2                   0.94            /            /   \n",
       "3                   0.94            /            /   \n",
       "4                   0.93            /            /   \n",
       "5                   0.85            /            /   \n",
       "6                   0.81            /            /   \n",
       "7                   0.81            /            /   \n",
       "8                   0.81            /            /   \n",
       "9                   0.81            /            /   \n",
       "10                  0.71         0.66         0.75   \n",
       "11                  0.41         0.61         0.42   \n",
       "12                  0.66         0.57         0.58   \n",
       "13                  0.41         0.22         0.49   \n",
       "14                  0.32         0.25         0.52   \n",
       "15                  0.36         0.24         0.51   \n",
       "\n",
       "   Precision(A)  \n",
       "0             /  \n",
       "1             /  \n",
       "2             /  \n",
       "3             /  \n",
       "4             /  \n",
       "5             /  \n",
       "6             /  \n",
       "7             /  \n",
       "8             /  \n",
       "9             /  \n",
       "10         0.92  \n",
       "11         0.68  \n",
       "12         0.81  \n",
       "13         0.59  \n",
       "14         0.78  \n",
       "15         0.59  "
      ]
     },
     "execution_count": 75,
     "metadata": {},
     "output_type": "execute_result"
    }
   ],
   "source": [
    "#得到每種 method 對應的 c_m_list, k_list\n",
    "d_no_2_c_m, d_no_2_list = k_fold(X, y_2, 0)\n",
    "d_wi_2_c_m, d_wi_2_list = k_fold(PCA_X, y_2, 1)\n",
    "r_no_2_c_m, r_no_2_list = k_fold(X, y_2, 2)\n",
    "r_wi_2_c_m, r_wi_2_list = k_fold(PCA_X, y_2, 3)\n",
    "K_no_2_c_m, K_no_2_list = k_fold(X, y_2, 4)\n",
    "K_wi_2_c_m, K_wi_2_list = k_fold(PCA_X, y_2, 5)\n",
    "\n",
    "d_no_5_c_m, d_no_5_list = k_fold(X, y_5, 6)\n",
    "d_wi_5_c_m, d_wi_5_list = k_fold(PCA_X, y_5, 7)\n",
    "r_no_5_c_m, r_no_5_list = k_fold(X, y_5, 8)\n",
    "r_wi_5_c_m, r_wi_5_list = k_fold(PCA_X, y_5, 9)\n",
    "K_no_5_c_m, K_no_5_list = k_fold(X, y_5, 10)\n",
    "K_wi_5_c_m, K_wi_5_list = k_fold(PCA_X, y_5, 11)\n",
    "\n",
    "r_no_2_c_m_2, r_no_2_list_2 = k_fold(X, y_2, 12)\n",
    "r_no_2_c_m_3, r_no_2_list_3 = k_fold(X, y_2, 13)\n",
    "\n",
    "K_no_2_c_m_2, K_no_2_list_2 = k_fold(X, y_2, 14)\n",
    "K_no_2_c_m_3, K_no_2_list_3 = k_fold(X, y_2, 15)\n",
    "\n",
    "#把所有 k_list 塞進 all_list 中\n",
    "all_list = [d_no_2_list, d_wi_2_list, r_no_2_list, r_no_2_list_2, r_no_2_list_3, r_wi_2_list, K_no_2_list, K_no_2_list_2,\n",
    "            K_no_2_list_3, K_wi_2_list, d_no_5_list, d_wi_5_list, r_no_5_list, r_wi_5_list, K_no_5_list, K_wi_5_list]\n",
    "\n",
    "title_list =  [\"Method\", \"Accuracy\", \"Recall(fail or F)\", \"Recall(pass or D)\",\n",
    "                     \"Recall(C)\", \"Recall(B)\", \"Recall(A)\", \"Precision(fail or F)\",\n",
    "                     \"Precision(pass or D)\", \"Precision(C)\", \"Precision(B)\", \n",
    "                     \"Precision(A)\"] #把各個 column 名稱定好\n",
    "\n",
    "table = pd.DataFrame(all_list, columns = title_list) #把 table 用 DataFrame 顯示出來\n",
    "table # 顯示 table"
   ]
  },
  {
   "cell_type": "markdown",
   "metadata": {},
   "source": [
    "> **Random Forest:** 我在 binary classification 中測試了 **65, 33, 17 trees**（選奇數才不會導致有平手的狀況），可以看到三者的正確率是差不多的，並沒有因為 tree 的數量增加而導致正確率上升。\n",
    "  但 recall 和 precision 在 33 棵 tree 的時候都是最低的，代表我們的 tree 數量不能選得不大不小，而是應該選極端一點。\n",
    " \n",
    "> **Difference between K-fold cross-validation and Random Forest:** Random Forest 是在 **training data** 中再去隨機取樣，並且也有可能會隨機取 feature；K-fold cross-validation 則是在**所有data中**(m 筆)取**連續**的 m/k 筆 data 當成 validation set，並且每個 feature 都會取到。 \n",
    "\n",
    "> **KNN:** 我在 binary classification 中測試了 **K = 17, K = 11, K = 7** 這三種情況（選奇數才不會導致有平手的狀況），可以看到正確率隨著 K 下降而上升。  \n",
    "而在 recall 方面，fail 的 recall **隨著 K 下降而上升**；相反地，pass 的 recall **隨著 K 上升而上升**。 <br>\n",
    "precision 則和 recall 相反，fail 的 precision **隨著 K 上升而上升**，pass 的 precision **隨著 K 下降而上升**"
   ]
  },
  {
   "cell_type": "code",
   "execution_count": 76,
   "metadata": {},
   "outputs": [
    {
     "name": "stdout",
     "output_type": "stream",
     "text": [
      "+--------------------------------------------------------------+-----------------------------------+\n",
      "|                            Method                            |          Confusion Matrix         |\n",
      "+--------------------------------------------------------------+-----------------------------------+\n",
      "|      Decision Tree without PCA (Binary Classification)       |           [[37.67  5.67]          |\n",
      "|                                                              |           [ 6.   82.33]]          |\n",
      "|                                                              |                                   |\n",
      "|        Decision Tree with PCA (Binary Classification)        |           [[26.33 17.  ]          |\n",
      "|                                                              |           [10.   78.33]]          |\n",
      "|                                                              |                                   |\n",
      "| Random Forest(65 trees) without PCA (Binary Classification)  |           [[37.67  5.67]          |\n",
      "|                                                              |           [ 6.33 82.  ]]          |\n",
      "|                                                              |                                   |\n",
      "|   Random Forest(65 trees) with PCA (Binary Classification)   |           [[28.   15.33]          |\n",
      "|                                                              |           [ 4.   84.33]]          |\n",
      "|                                                              |                                   |\n",
      "|        KNN(K = 9) without PCA (Binary Classification)        |           [[23.67 19.67]          |\n",
      "|                                                              |           [ 4.67 83.67]]          |\n",
      "|                                                              |                                   |\n",
      "|         KNN(K = 9) with PCA (Binary Classification)          |           [[24.   19.33]          |\n",
      "|                                                              |           [ 6.67 81.67]]          |\n",
      "|                                                              |                                   |\n",
      "|      Decision Tree without PCA (5-level Classification)      |  [[38.    5.33  0.    0.    0.  ] |\n",
      "|                                                              |   [ 6.67 23.67  4.    0.    0.  ] |\n",
      "|                                                              |   [ 0.    4.67 14.    2.    0.  ] |\n",
      "|                                                              |   [ 0.    0.    3.33 15.67  1.  ] |\n",
      "|                                                              |  [ 0.    0.    0.    3.33 10.  ]] |\n",
      "|                                                              |                                   |\n",
      "|       Decision Tree with PCA (5-level Classification)        |  [[32.   10.67  0.33  0.33  0.  ] |\n",
      "|                                                              |   [11.   16.33  4.67  2.33  0.  ] |\n",
      "|                                                              |   [ 1.67  8.67  5.67  4.67  0.  ] |\n",
      "|                                                              |   [ 0.    5.    2.67  9.33  3.  ] |\n",
      "|                                                              |  [ 0.    0.67  0.67  5.    7.  ]] |\n",
      "|                                                              |                                   |\n",
      "| Random Forest(65 trees) without PCA (5-level Classification) |  [[40.33  3.    0.    0.    0.  ] |\n",
      "|                                                              |   [ 9.   22.    2.67  0.67  0.  ] |\n",
      "|                                                              |   [ 0.33  8.    8.    4.33  0.  ] |\n",
      "|                                                              |   [ 0.    1.    3.   14.    2.  ] |\n",
      "|                                                              |  [ 0.    0.    0.33  5.    8.  ]] |\n",
      "|                                                              |                                   |\n",
      "|  Random Forest(65 trees) with PCA (5-level Classification)   |  [[37.    6.33  0.    0.    0.  ] |\n",
      "|                                                              |   [17.   14.67  2.    0.67  0.  ] |\n",
      "|                                                              |   [ 3.67 12.    1.33  3.67  0.  ] |\n",
      "|                                                              |   [ 1.    2.67  2.   11.33  3.  ] |\n",
      "|                                                              |  [ 0.    1.    0.67  7.33  4.33]] |\n",
      "|                                                              |                                   |\n",
      "|       KNN(K = 9) without PCA (5-level Classification)        |  [[30.33 12.67  0.33  0.    0.  ] |\n",
      "|                                                              |   [15.67 14.    4.    0.67  0.  ] |\n",
      "|                                                              |   [ 3.33 11.67  2.67  3.    0.  ] |\n",
      "|                                                              |   [ 0.    6.33  3.    9.33  1.33] |\n",
      "|                                                              |  [ 0.33  1.33  1.33  5.33  5.  ]] |\n",
      "|                                                              |                                   |\n",
      "|         KNN(K = 9) with PCA (5-level Classification)         |  [[31.   12.33  0.    0.    0.  ] |\n",
      "|                                                              |   [14.   16.67  2.67  0.67  0.33] |\n",
      "|                                                              |   [ 4.   11.    3.    2.67  0.  ] |\n",
      "|                                                              |   [ 0.33  6.    1.67  9.67  2.33] |\n",
      "|                                                              |  [ 0.    1.33  2.    6.33  3.67]] |\n",
      "|                                                              |                                   |\n",
      "+--------------------------------------------------------------+-----------------------------------+\n"
     ]
    }
   ],
   "source": [
    "#把所有的 c_m_list 塞進 all_c_m_list 中\n",
    "all_c_m_list = [d_no_2_c_m, d_wi_2_c_m, r_no_2_c_m, r_wi_2_c_m, K_no_2_c_m, K_wi_2_c_m, \n",
    "             d_no_5_c_m, d_wi_5_c_m, r_no_5_c_m, r_wi_5_c_m, K_no_5_c_m, K_wi_5_c_m]\n",
    "\n",
    "c_m_table = pt.PrettyTable() #建一個 PrettyTable\n",
    "c_m_table.field_names = [\"Method\", \"Confusion Matrix\"] #設定 column 的名稱\n",
    "\n",
    "for c_m in all_c_m_list:\n",
    "    c_m_table.add_row(c_m) # 把資料放進 row 中\n",
    "    c_m_table.add_row([\" \", \" \"]) # 加一個空的 row（否則會太擠）\n",
    "\n",
    "print(c_m_table) #顯示 table"
   ]
  },
  {
   "cell_type": "markdown",
   "metadata": {},
   "source": [
    "## 7. Comparison & Conclusion"
   ]
  },
  {
   "cell_type": "markdown",
   "metadata": {},
   "source": [
    "* 可以看到 binary classification 正確率遠高於 5-level classification，蠻合理的\n",
    "* 在 binary classification 中，不管是 recall 還是 precision 都是 pass 表現較好，我推測是因為 pass 的人比 fail 的人多（請看下code）"
   ]
  },
  {
   "cell_type": "code",
   "execution_count": 77,
   "metadata": {},
   "outputs": [
    {
     "name": "stdout",
     "output_type": "stream",
     "text": [
      "pass: 265, fail: 130\n"
     ]
    }
   ],
   "source": [
    "zero, one = 0, 0\n",
    "\n",
    "for y in y_2:\n",
    "    if y == 0: # 如果 label == 0 (fail)\n",
    "        zero += 1 # zero 就加一\n",
    "    else:\n",
    "        one += 1 # 否則就是 one 加一\n",
    "        \n",
    "print(\"pass: {}, fail: {}\".format(one, zero)) #顯示 pass 人數、fail 人數"
   ]
  },
  {
   "cell_type": "markdown",
   "metadata": {},
   "source": [
    "* 在 5-level classification 中， recall 和 precision 幾乎都是 V 的表現最好，有可能是因為資料最多的關係（請看下code）。但應該不只是這個原因，因為其他的資料並沒有因為資料量較多而表現較好"
   ]
  },
  {
   "cell_type": "code",
   "execution_count": 78,
   "metadata": {},
   "outputs": [
    {
     "name": "stdout",
     "output_type": "stream",
     "text": [
      "A: 40, B: 60, C: 62, D: 103, F: 130\n"
     ]
    }
   ],
   "source": [
    "A, B, C, D, F = 0, 0, 0, 0, 0\n",
    "\n",
    "#根據 label 把對應的 counter + 1 \n",
    "for y in y_5:\n",
    "    if y == 0:\n",
    "        F += 1\n",
    "    elif y == 1:\n",
    "        D += 1\n",
    "    elif y == 2:\n",
    "        C += 1\n",
    "    elif y == 3:\n",
    "        B += 1\n",
    "    elif y == 4:\n",
    "        A += 1\n",
    "        \n",
    "print(\"A: {}, B: {}, C: {}, D: {}, F: {}\".format(A, B, C, D, F)) #顯示 A 人數、B 人數、C 人數、D 人數、F 人數"
   ]
  },
  {
   "cell_type": "markdown",
   "metadata": {},
   "source": [
    "## 8. Questions "
   ]
  },
  {
   "cell_type": "markdown",
   "metadata": {},
   "source": [
    "### Decision Tree\n",
    "* Show the prediction and reasoning of one arbitrary sample in the testing set."
   ]
  },
  {
   "cell_type": "code",
   "execution_count": 79,
   "metadata": {},
   "outputs": [],
   "source": [
    "train_size = len(PCA_X) // 3 * 2 # 決定 training data 的 size\n",
    "PCA_X_train = PCA_X[:train_size] # training data 用第 0 筆 ~ 第 (train_size - 1) 筆 data  \n",
    "y_2_train = y_2[:train_size] # training data 對應的 label\n",
    "model =  decision_tree(PCA_X_train, y_2_train, 1) #透過 training data 和 label 得到一個 decision tree model，並且要畫圖 (draw = 1)"
   ]
  },
  {
   "cell_type": "code",
   "execution_count": 80,
   "metadata": {},
   "outputs": [
    {
     "data": {
      "text/plain": [
       "0    -0.685756\n",
       "1     2.913666\n",
       "2     1.802163\n",
       "3     2.391413\n",
       "4     0.281709\n",
       "5    -1.241945\n",
       "6     0.860249\n",
       "7     0.779535\n",
       "8     0.660236\n",
       "9    -0.714481\n",
       "10   -0.129748\n",
       "11    1.122774\n",
       "12   -0.027390\n",
       "13   -0.384196\n",
       "14   -0.531535\n",
       "15   -0.469955\n",
       "16   -0.206424\n",
       "17    0.740565\n",
       "18    1.537066\n",
       "19   -0.775063\n",
       "dtype: float64"
      ]
     },
     "execution_count": 80,
     "metadata": {},
     "output_type": "execute_result"
    }
   ],
   "source": [
    "data = pd.Series(PCA_X[-1]) # 拿整個 data 的最後一筆當作 testing data\n",
    "data # 顯示 data"
   ]
  },
  {
   "cell_type": "markdown",
   "metadata": {},
   "source": [
    "* 使用這筆 data 當作 input，在 decision tree 上的 prediction 如下圖"
   ]
  },
  {
   "cell_type": "markdown",
   "metadata": {},
   "source": [
    "![avatar](https://raw.githubusercontent.com/ee-chiu/ML-hw2/master/decision_tree.png)"
   ]
  },
  {
   "cell_type": "markdown",
   "metadata": {},
   "source": [
    "> **解釋**: <br> 1. data[0] = -0.865448 <= 0.265，走 True <br> 2. data[2] = 0.963255 > -1.664，走 False <br> 3. data[2] = 0.963255 > -0.783，走 False <br> 4. 最後 leaf node 的 class 是 pass，所以這筆 data 的 prediction 會是 pass"
   ]
  },
  {
   "cell_type": "markdown",
   "metadata": {},
   "source": [
    "### Random Forest\n",
    "* Describe the difference between boosting and bagging."
   ]
  },
  {
   "cell_type": "markdown",
   "metadata": {},
   "source": [
    "1. 抽樣\n",
    "    * **bagging**: 各個 data 被抽到的機率是相等的\n",
    "    * **boosting**: 每次抽取的 data 是透過前一次的 model 預測結果來調整抽到的機率（錯誤率越高，機率越高）\n",
    "\n",
    "\n",
    "2. 各個 decision tree 權重\n",
    "    * **bagging**: 每個 decision tree 的權重都是相等的\n",
    "    * **boosting**: decision tree 的正確率越高，權重越大\n",
    "\n",
    "\n",
    "3. 平行運算\n",
    "    * **bagging**: 可以平行運算（因為各個 decision tree 獨立）\n",
    "    * **boosting**: 不可平行運算（因為每個 decision tree 都會根據前一個預測結果調整抽取 data 的機率）\n",
    "\n",
    "\n",
    "4. 用途\n",
    "    * **bagging**: 降低 variance\n",
    "    * **boosting**: 降低 bias"
   ]
  },
  {
   "cell_type": "markdown",
   "metadata": {},
   "source": [
    "### KNN\n",
    "* Show the prediction and reasoning of one arbitrary sample in the testing set."
   ]
  },
  {
   "cell_type": "code",
   "execution_count": 81,
   "metadata": {},
   "outputs": [
    {
     "data": {
      "text/plain": [
       "NearestNeighbors(algorithm='auto', leaf_size=30, metric='minkowski',\n",
       "                 metric_params=None, n_jobs=None, n_neighbors=9, p=2,\n",
       "                 radius=1.0)"
      ]
     },
     "execution_count": 81,
     "metadata": {},
     "output_type": "execute_result"
    }
   ],
   "source": [
    "train_size = len(PCA_X) // 3 * 2 # 決定 training data 的 size \n",
    "PCA_X_train = PCA_X[:train_size] # training data 用第 0 筆 ~ 第 (train_size - 1) 筆 data \n",
    "y_2_train = y_2[:train_size] # training data 對應的 label\n",
    "\n",
    "neighbors = NearestNeighbors(n_neighbors = 9) #得到一個 NearestNeighbors 的 object\n",
    "neighbors.fit(PCA_X_train)"
   ]
  },
  {
   "cell_type": "code",
   "execution_count": 82,
   "metadata": {},
   "outputs": [
    {
     "data": {
      "text/plain": [
       "0     0.939844\n",
       "1     0.209506\n",
       "2     1.806195\n",
       "3    -0.112847\n",
       "4    -0.516661\n",
       "5    -0.371311\n",
       "6     2.334130\n",
       "7     0.514194\n",
       "8    -0.993682\n",
       "9    -0.416425\n",
       "10   -2.294736\n",
       "11    0.421387\n",
       "12   -0.288096\n",
       "13    1.162492\n",
       "14    0.756624\n",
       "15    0.729715\n",
       "16   -1.002949\n",
       "17   -0.531861\n",
       "18    2.028347\n",
       "19    0.713994\n",
       "dtype: float64"
      ]
     },
     "execution_count": 82,
     "metadata": {},
     "output_type": "execute_result"
    }
   ],
   "source": [
    "data = pd.Series(PCA_X[-2]) # 拿整個 data 的倒數第二筆當作 testing data\n",
    "data # 顯示 data"
   ]
  },
  {
   "cell_type": "markdown",
   "metadata": {},
   "source": [
    "* 使用這筆 data 當作 input"
   ]
  },
  {
   "cell_type": "code",
   "execution_count": 83,
   "metadata": {},
   "outputs": [
    {
     "name": "stdout",
     "output_type": "stream",
     "text": [
      "distance: 4.31304, label: 1\n",
      "distance: 4.57622, label: 1\n",
      "distance: 4.73024, label: 1\n",
      "distance: 4.82971, label: 0\n",
      "distance: 4.8795, label: 1\n",
      "distance: 5.0002, label: 1\n",
      "distance: 5.04866, label: 1\n",
      "distance: 5.05755, label: 1\n",
      "distance: 5.12268, label: 1\n"
     ]
    }
   ],
   "source": [
    "data = data.to_numpy() # 把 Series 轉成 numpy array\n",
    "data = data.reshape(1, -1) # 把 shape 改成只有一個 row\n",
    "\n",
    "distances, indices = neighbors.kneighbors(data) # 透過上面得到的 NearestNeighbors object 得到當前 data 的 k 個 neighbors 的 distance 和 index\n",
    "for i in range(len(indices[0])):\n",
    "    print(\"distance: {}, label: {}\".format(round(distances[0][i], 5), y_2_train[indices[0][i]])) \n",
    "    #顯示每個 neighbors 和 當前 data 的 distance 和 label"
   ]
  },
  {
   "cell_type": "code",
   "execution_count": 84,
   "metadata": {},
   "outputs": [
    {
     "data": {
      "text/plain": [
       "1"
      ]
     },
     "execution_count": 84,
     "metadata": {},
     "output_type": "execute_result"
    }
   ],
   "source": [
    "np.argmax(np.bincount(y_2_train[indices[0, :]])) # 得到鄰居中最多的 label"
   ]
  },
  {
   "cell_type": "markdown",
   "metadata": {},
   "source": [
    "### KNN\n",
    "* Bonus: pick 2 features, draw and describe the KNN decision boundaries."
   ]
  },
  {
   "cell_type": "code",
   "execution_count": 138,
   "metadata": {},
   "outputs": [
    {
     "data": {
      "image/png": "[encoded data removed]",
      "text/plain": [
       "<Figure size 576x432 with 1 Axes>"
      ]
     },
     "metadata": {
      "needs_background": "light"
     },
     "output_type": "display_data"
    }
   ],
   "source": [
    "PCA_X_2 = getPCA(X, 2)\n",
    "model = KNN(PCA_X_2, y_2, 9)\n",
    "\n",
    "x_min, x_max = PCA_X_2[:, 0].min() - 1, PCA_X_2[:, 0].max() + 1\n",
    "y_min, y_max = PCA_X_2[:, 1].min() - 1, PCA_X_2[:, 1].max() + 1\n",
    "xx, yy = np.meshgrid(np.linspace(x_min, x_max, 50), np.linspace(y_min, y_max, 50))\n",
    "\n",
    "Z = model.predict(np.c_[xx.ravel(), yy.ravel()])\n",
    "Z = Z.reshape(xx.shape)\n",
    "\n",
    "# Put the result into a color plot\n",
    "plt.figure(figsize=(8, 6))\n",
    "\n",
    "#ListedColormap([\"yellow\", \"red\", \"cyan\", \"lime\", \"violet\"])\n",
    "plt.contourf(xx, yy, Z, cmap = ListedColormap([\"yellow\", \"springgreen\"]))\n",
    "\n",
    "labels = []\n",
    "for y in y_2:\n",
    "    if y == 0:\n",
    "        labels.append(\"fail\")\n",
    "    else:\n",
    "        labels.append(\"pass\")\n",
    "\n",
    "sns.scatterplot(x = PCA_X_2[:, 0], y = PCA_X_2[:, 1], hue = y_2,\n",
    "                palette = [\"gold\", \"mediumseagreen\"], alpha=1.0, edgecolor = \"black\")\n",
    "\n",
    "plt.xlim(xx.min(), xx.max())\n",
    "plt.ylim(yy.min(), yy.max())\n",
    "\n",
    "plt.show()"
   ]
  },
  {
   "cell_type": "code",
   "execution_count": null,
   "metadata": {},
   "outputs": [],
   "source": []
  },
  {
   "cell_type": "markdown",
   "metadata": {},
   "source": [
    "### PCA\n",
    "* In 5-Level classification, reduce the data dimension to 2 using PCA and draw a scatter plot. You have to colorize the data points based on their labels."
   ]
  },
  {
   "cell_type": "code",
   "execution_count": null,
   "metadata": {},
   "outputs": [],
   "source": [
    "PCA_X_2 = getPCA(X, 2) # 把 feature 透過 PCA 降到二維\n",
    "dim1 = PCA_X_2[:, 0] # 得到第一個 dimension 的資料\n",
    "dim2 = PCA_X_2[:, 1] # 得到第二個 dimension 的資料\n",
    "\n",
    "F_dim1 = []\n",
    "F_dim2 = []\n",
    "D_dim1 = []\n",
    "D_dim2 = []\n",
    "C_dim1 = []\n",
    "C_dim2 = []\n",
    "B_dim1 = []\n",
    "B_dim2 = []\n",
    "A_dim1 = []\n",
    "A_dim2 = []\n",
    "\n",
    "#記錄各個 label 的 dimension 資料\n",
    "for i in range(len(dim1)):\n",
    "    if y_5[i] == 0:\n",
    "        F_dim1.append(dim1[i])\n",
    "        F_dim2.append(dim2[i])\n",
    "    elif y_5[i] == 1:\n",
    "        D_dim1.append(dim1[i])\n",
    "        D_dim2.append(dim2[i])\n",
    "    elif y_5[i] == 2:\n",
    "        C_dim1.append(dim1[i])\n",
    "        C_dim2.append(dim2[i])\n",
    "    elif y_5[i] == 3:\n",
    "        B_dim1.append(dim1[i])\n",
    "        B_dim2.append(dim2[i])\n",
    "    elif y_5[i] == 4:\n",
    "        A_dim1.append(dim1[i])\n",
    "        A_dim2.append(dim2[i])\n",
    "\n",
    "plt.figure(figsize=(20, 20), dpi = 100) # 決定圖片大小和解析度\n",
    "        \n",
    "#根據 label 畫圖\n",
    "plt.plot(F_dim1, F_dim2, 'bo', label = 'F') \n",
    "plt.plot(D_dim1, D_dim2, 'go', label = 'D')\n",
    "plt.plot(C_dim1, C_dim2, 'ro', label = 'C')\n",
    "plt.plot(B_dim1, B_dim2, 'mo', label = 'B')\n",
    "plt.plot(A_dim1, A_dim2, 'co', label = 'A')\n",
    "\n",
    "plt.legend() # 顯示圖例\n",
    "plt.show() # 顯示圖片"
   ]
  }
 ],
 "metadata": {
  "kernelspec": {
   "display_name": "Python 3",
   "language": "python",
   "name": "python3"
  },
  "language_info": {
   "codemirror_mode": {
    "name": "ipython",
    "version": 3
   },
   "file_extension": ".py",
   "mimetype": "text/x-python",
   "name": "python",
   "nbconvert_exporter": "python",
   "pygments_lexer": "ipython3",
   "version": "3.7.3"
  }
 },
 "nbformat": 4,
 "nbformat_minor": 4
}
